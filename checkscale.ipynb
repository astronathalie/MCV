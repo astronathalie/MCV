{
 "cells": [
  {
   "cell_type": "code",
   "execution_count": 21,
   "metadata": {},
   "outputs": [],
   "source": [
    "import glob\n",
    "from astropy.io import fits\n",
    "\n",
    "file_dir = '/Users/nathaliehaurberg/Data/MagneticCVs/VV_Pup_RLMT_Feb_2025/r/'\n",
    "files = glob.glob(file_dir + '*.fts')\n",
    "\n",
    "def check_file(files):\n",
    "    for file in files:\n",
    "        header = fits.getheader(file)\n",
    "        scale = header['SCALE']\n",
    "        if scale < 1 or scale > 2:\n",
    "            print(scale)\n",
    "            print(file)\n",
    "        \n",
    "\n",
    "check_file(files)\n",
    "    "
   ]
  }
 ],
 "metadata": {
  "kernelspec": {
   "display_name": "PYTHON3113",
   "language": "python",
   "name": "python3"
  },
  "language_info": {
   "codemirror_mode": {
    "name": "ipython",
    "version": 3
   },
   "file_extension": ".py",
   "mimetype": "text/x-python",
   "name": "python",
   "nbconvert_exporter": "python",
   "pygments_lexer": "ipython3",
   "version": "3.11.7"
  }
 },
 "nbformat": 4,
 "nbformat_minor": 2
}
